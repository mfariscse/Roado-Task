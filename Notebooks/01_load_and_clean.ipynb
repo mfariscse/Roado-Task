{
 "cells": [
  {
   "cell_type": "markdown",
   "id": "14be1b8a",
   "metadata": {},
   "source": [
    "# Data Cleaning Notebook\n",
    "**Objective:** Load, inspect, clean, and export `online_retail.xlsx`  \n",
    "**Issues to document:** nulls, duplicates, negatives, outlier"
   ]
  },
  {
   "cell_type": "code",
   "execution_count": 1,
   "id": "52d46cee",
   "metadata": {},
   "outputs": [],
   "source": [
    "import pandas as pd\n",
    "import numpy as np"
   ]
  },
  {
   "cell_type": "code",
   "execution_count": 4,
   "id": "2f402e64",
   "metadata": {},
   "outputs": [],
   "source": [
    "# Use forward slashes for the Windows path (works in Python) to avoid escape issues\n",
    "raw_path = 'E:/FARIS WORK/data-analyst-intern-assignment/raw_data/Online Retail.xlsx'\n",
    "df = pd.read_excel(raw_path)\n"
   ]
  },
  {
   "cell_type": "code",
   "execution_count": 5,
   "id": "8ec43a99",
   "metadata": {},
   "outputs": [
    {
     "name": "stdout",
     "output_type": "stream",
     "text": [
      "Shape: (541909, 8)\n",
      "\n",
      "Columns: ['InvoiceNo', 'StockCode', 'Description', 'Quantity', 'InvoiceDate', 'UnitPrice', 'CustomerID', 'Country']\n",
      "\n",
      "Sample:\n",
      "  InvoiceNo StockCode                         Description  Quantity  \\\n",
      "0    536365    85123A  WHITE HANGING HEART T-LIGHT HOLDER         6   \n",
      "1    536365     71053                 WHITE METAL LANTERN         6   \n",
      "2    536365    84406B      CREAM CUPID HEARTS COAT HANGER         8   \n",
      "\n",
      "          InvoiceDate  UnitPrice  CustomerID         Country  \n",
      "0 2010-12-01 08:26:00       2.55     17850.0  United Kingdom  \n",
      "1 2010-12-01 08:26:00       3.39     17850.0  United Kingdom  \n",
      "2 2010-12-01 08:26:00       2.75     17850.0  United Kingdom  \n",
      "\n",
      "Info:\n",
      "<class 'pandas.core.frame.DataFrame'>\n",
      "RangeIndex: 541909 entries, 0 to 541908\n",
      "Data columns (total 8 columns):\n",
      " #   Column       Non-Null Count   Dtype         \n",
      "---  ------       --------------   -----         \n",
      " 0   InvoiceNo    541909 non-null  object        \n",
      " 1   StockCode    541909 non-null  object        \n",
      " 2   Description  540455 non-null  object        \n",
      " 3   Quantity     541909 non-null  int64         \n",
      " 4   InvoiceDate  541909 non-null  datetime64[ns]\n",
      " 5   UnitPrice    541909 non-null  float64       \n",
      " 6   CustomerID   406829 non-null  float64       \n",
      " 7   Country      541909 non-null  object        \n",
      "dtypes: datetime64[ns](1), float64(2), int64(1), object(4)\n",
      "memory usage: 33.1+ MB\n",
      "  InvoiceNo StockCode                         Description  Quantity  \\\n",
      "0    536365    85123A  WHITE HANGING HEART T-LIGHT HOLDER         6   \n",
      "1    536365     71053                 WHITE METAL LANTERN         6   \n",
      "2    536365    84406B      CREAM CUPID HEARTS COAT HANGER         8   \n",
      "\n",
      "          InvoiceDate  UnitPrice  CustomerID         Country  \n",
      "0 2010-12-01 08:26:00       2.55     17850.0  United Kingdom  \n",
      "1 2010-12-01 08:26:00       3.39     17850.0  United Kingdom  \n",
      "2 2010-12-01 08:26:00       2.75     17850.0  United Kingdom  \n",
      "\n",
      "Info:\n",
      "<class 'pandas.core.frame.DataFrame'>\n",
      "RangeIndex: 541909 entries, 0 to 541908\n",
      "Data columns (total 8 columns):\n",
      " #   Column       Non-Null Count   Dtype         \n",
      "---  ------       --------------   -----         \n",
      " 0   InvoiceNo    541909 non-null  object        \n",
      " 1   StockCode    541909 non-null  object        \n",
      " 2   Description  540455 non-null  object        \n",
      " 3   Quantity     541909 non-null  int64         \n",
      " 4   InvoiceDate  541909 non-null  datetime64[ns]\n",
      " 5   UnitPrice    541909 non-null  float64       \n",
      " 6   CustomerID   406829 non-null  float64       \n",
      " 7   Country      541909 non-null  object        \n",
      "dtypes: datetime64[ns](1), float64(2), int64(1), object(4)\n",
      "memory usage: 33.1+ MB\n"
     ]
    }
   ],
   "source": [
    "print(\"Shape:\", df.shape)\n",
    "print(\"\\nColumns:\", df.columns.tolist())\n",
    "print(\"\\nSample:\")\n",
    "print(df.head(3))\n",
    "print(\"\\nInfo:\")\n",
    "df.info()"
   ]
  },
  {
   "cell_type": "markdown",
   "id": "c9dbecd3",
   "metadata": {},
   "source": [
    "## Data Quality Issues Found\n",
    "\n",
    "| Issue | Description | Count | % of Total |\n",
    "|-------|-----------|--------|------------|\n",
    "| **Missing CustomerID** | `CustomerID` is null → cannot link to customer | `df['CustomerID'].isna().sum()` | ~25% |\n",
    "| **Cancellations** | `InvoiceNo` starts with 'C' OR `Quantity < 0` | `df[df['InvoiceNo'].astype(str).str.startswith('C')].shape[0]` | ~16k–20k rows |\n",
    "| **Negative UnitPrice** | Price ≤ 0 (invalid for sales) | `df[df['UnitPrice'] <= 0].shape[0]` | ~2k–3k |\n",
    "| **Duplicates** | Exact duplicate rows | `df.duplicated().sum()` | ~5k |\n",
    "| **Outliers** | Extreme `Quantity` or `UnitPrice` (e.g., >10,000 units or >£5,000) | Use quantiles | TBD |\n",
    "| **Data Types** | `InvoiceDate` is object → needs datetime <br> `CustomerID` is float → should be int/string | `df.dtypes` | N/A |"
   ]
  },
  {
   "cell_type": "code",
   "execution_count": 7,
   "id": "d065aad4",
   "metadata": {},
   "outputs": [
    {
     "name": "stdout",
     "output_type": "stream",
     "text": [
      "Missing CustomerID: 135080 (24.9%)\n"
     ]
    }
   ],
   "source": [
    "# QUICK ISSUE CHECKS\n",
    "print(\"Missing CustomerID:\", df['CustomerID'].isna().sum(), f\"({df['CustomerID'].isna().mean():.1%})\")\n"
   ]
  },
  {
   "cell_type": "code",
   "execution_count": 8,
   "id": "45aae811",
   "metadata": {},
   "outputs": [
    {
     "name": "stdout",
     "output_type": "stream",
     "text": [
      "Cancellations (C prefix): 9288\n"
     ]
    }
   ],
   "source": [
    "print(\"Cancellations (C prefix):\", df[df['InvoiceNo'].astype(str).str.startswith('C')].shape[0])\n"
   ]
  },
  {
   "cell_type": "code",
   "execution_count": 9,
   "id": "8456d469",
   "metadata": {},
   "outputs": [
    {
     "name": "stdout",
     "output_type": "stream",
     "text": [
      "Negative Quantity: 10624\n"
     ]
    }
   ],
   "source": [
    "print(\"Negative Quantity:\", (df['Quantity'] < 0).sum())\n"
   ]
  },
  {
   "cell_type": "code",
   "execution_count": 10,
   "id": "9e9bcd0a",
   "metadata": {},
   "outputs": [
    {
     "name": "stdout",
     "output_type": "stream",
     "text": [
      "Zero/Negative UnitPrice: 2517\n"
     ]
    }
   ],
   "source": [
    "print(\"Zero/Negative UnitPrice:\", (df['UnitPrice'] <= 0).sum())\n"
   ]
  },
  {
   "cell_type": "code",
   "execution_count": 11,
   "id": "aca5d87f",
   "metadata": {},
   "outputs": [
    {
     "name": "stdout",
     "output_type": "stream",
     "text": [
      "Duplicates: 5268\n"
     ]
    }
   ],
   "source": [
    "print(\"Duplicates:\", df.duplicated().sum())\n"
   ]
  },
  {
   "cell_type": "code",
   "execution_count": 14,
   "id": "3b78547e",
   "metadata": {},
   "outputs": [
    {
     "name": "stdout",
     "output_type": "stream",
     "text": [
      "\n",
      "Outlier candidates:\n",
      "  Quantity > 10,000: 3\n",
      "  UnitPrice > £5,000: 31\n"
     ]
    }
   ],
   "source": [
    "print(\"\\nOutlier candidates:\")\n",
    "print(\"  Quantity > 10,000:\", (df['Quantity'] > 10000).sum())\n",
    "print(\"  UnitPrice > £5,000:\", (df['UnitPrice'] > 5000).sum())"
   ]
  },
  {
   "cell_type": "markdown",
   "id": "53ae165b",
   "metadata": {},
   "source": [
    "## Transformation 1: Data Types + Revenue Column\n",
    "- Convert `InvoiceDate` → datetime  \n",
    "- `CustomerID` → string (for safety)  \n",
    "- Create `Revenue = Quantity * UnitPrice`  "
   ]
  },
  {
   "cell_type": "code",
   "execution_count": 15,
   "id": "475edd21",
   "metadata": {},
   "outputs": [],
   "source": [
    "df['InvoiceDate'] = pd.to_datetime(df['InvoiceDate'], dayfirst=True)\n",
    "df['CustomerID'] = df['CustomerID'].astype('str')"
   ]
  },
  {
   "cell_type": "code",
   "execution_count": 16,
   "id": "6a6ac257",
   "metadata": {},
   "outputs": [],
   "source": [
    "df['Revenue'] = df['Quantity'] * df['UnitPrice']"
   ]
  },
  {
   "cell_type": "code",
   "execution_count": 17,
   "id": "281b0c6b",
   "metadata": {},
   "outputs": [
    {
     "name": "stdout",
     "output_type": "stream",
     "text": [
      "InvoiceDate dtype: datetime64[ns]\n",
      "Sample Revenue: [15.299999999999999, 20.34, 22.0]\n"
     ]
    }
   ],
   "source": [
    "print(\"InvoiceDate dtype:\", df['InvoiceDate'].dtype)\n",
    "print(\"Sample Revenue:\", df['Revenue'].head(3).tolist())"
   ]
  },
  {
   "cell_type": "markdown",
   "id": "29bcdf91",
   "metadata": {},
   "source": [
    "## Transformation 2: Remove Duplicates\n",
    "- **Issue:** 5,268 exact duplicate rows  \n",
    "- **Fix:** Drop duplicates (keep first)  \n",
    "- **Validation:** Confirm count = 0"
   ]
  },
  {
   "cell_type": "code",
   "execution_count": 18,
   "id": "ef7c7372",
   "metadata": {},
   "outputs": [
    {
     "name": "stdout",
     "output_type": "stream",
     "text": [
      "Rows before dedupe: 541909\n"
     ]
    }
   ],
   "source": [
    "print(\"Rows before dedupe:\", len(df))"
   ]
  },
  {
   "cell_type": "code",
   "execution_count": 19,
   "id": "f5a33441",
   "metadata": {},
   "outputs": [],
   "source": [
    "df = df.drop_duplicates(keep='first')"
   ]
  },
  {
   "cell_type": "code",
   "execution_count": 20,
   "id": "0099d3c8",
   "metadata": {},
   "outputs": [
    {
     "name": "stdout",
     "output_type": "stream",
     "text": [
      "Rows after dedupe: 536641\n",
      "Remaining duplicates: 0\n",
      "Remaining duplicates: 0\n"
     ]
    }
   ],
   "source": [
    "print(\"Rows after dedupe:\", len(df))\n",
    "print(\"Remaining duplicates:\", df.duplicated().sum())\n",
    "assert df.duplicated().sum() == 0, \"Duplicates exist!\""
   ]
  },
  {
   "cell_type": "markdown",
   "id": "1e513e21",
   "metadata": {},
   "source": [
    "## Transformation 3: Cancellations & Invalid Prices\n",
    "- **Cancellations:** `InvoiceNo` starts with 'C' AND `Quantity < 0` → keep for revenue calc (negative revenue)  \n",
    "- **Invalid:** `UnitPrice <= 0` OR `Quantity <= 0` without 'C' → remove (likely errors)  \n",
    "- **Keep cancellations** for lost revenue insight  \n",
    "- **Validation:** Count remaining invalid rows = 0"
   ]
  },
  {
   "cell_type": "code",
   "execution_count": 21,
   "id": "650c15b0",
   "metadata": {},
   "outputs": [
    {
     "name": "stdout",
     "output_type": "stream",
     "text": [
      "Rows before invalid removal: 536641\n",
      "Cancellations: 9251\n",
      "Cancellations: 9251\n"
     ]
    }
   ],
   "source": [
    "print(\"Rows before invalid removal:\", len(df))\n",
    "print(\"Cancellations:\", df[df['InvoiceNo'].astype(str).str.startswith('C')].shape[0])"
   ]
  },
  {
   "cell_type": "code",
   "execution_count": 22,
   "id": "850f952b",
   "metadata": {},
   "outputs": [],
   "source": [
    "df['IsCancellation'] = df['InvoiceNo'].astype(str).str.startswith('C')"
   ]
  },
  {
   "cell_type": "code",
   "execution_count": 23,
   "id": "b95a8ebd",
   "metadata": {},
   "outputs": [
    {
     "name": "stdout",
     "output_type": "stream",
     "text": [
      "Invalid rows to remove: 2512\n"
     ]
    }
   ],
   "source": [
    "invalid = df[\n",
    "    (~df['IsCancellation']) & \n",
    "    ((df['UnitPrice'] <= 0) | (df['Quantity'] <= 0))\n",
    "]\n",
    "print(\"Invalid rows to remove:\", len(invalid))\n",
    "\n",
    "df = df.drop(invalid.index)"
   ]
  },
  {
   "cell_type": "code",
   "execution_count": 24,
   "id": "46635344",
   "metadata": {},
   "outputs": [
    {
     "name": "stdout",
     "output_type": "stream",
     "text": [
      "Remaining invalid: 0\n"
     ]
    }
   ],
   "source": [
    "remaining_invalid = df[\n",
    "    (~df['IsCancellation']) & \n",
    "    ((df['UnitPrice'] <= 0) | (df['Quantity'] <= 0))\n",
    "]\n",
    "print(\"Remaining invalid:\", len(remaining_invalid))\n",
    "assert len(remaining_invalid) == 0, \"Invalid rows remain!\""
   ]
  },
  {
   "cell_type": "code",
   "execution_count": 25,
   "id": "869b9603",
   "metadata": {},
   "outputs": [
    {
     "name": "stdout",
     "output_type": "stream",
     "text": [
      "Final rows after invalid removal: 534129\n"
     ]
    }
   ],
   "source": [
    "print(\"Final rows after invalid removal:\", len(df))"
   ]
  },
  {
   "cell_type": "markdown",
   "id": "69270a6b",
   "metadata": {},
   "source": [
    "## Transformation 4: Handle Missing CustomerID\n",
    "- **Issue:** ~135k rows (~25%) have null `CustomerID` → cannot do customer-level analysis  \n",
    "- **Fix:**  \n",
    "  - **Option 1 (Chosen):** Keep all rows for **aggregate insights** (revenue, product, country)  \n",
    "  - Create two versions:  \n",
    "    - `df_full`: All cleaned data  \n",
    "    - `df_customer`: Only rows with valid `CustomerID` (for CLV, RFM)  \n",
    "- **Validation:** Confirm no nulls in `df_customer['CustomerID']`"
   ]
  },
  {
   "cell_type": "code",
   "execution_count": 26,
   "id": "ee3dcde8",
   "metadata": {},
   "outputs": [],
   "source": [
    "df_full = df.copy()"
   ]
  },
  {
   "cell_type": "code",
   "execution_count": 27,
   "id": "92e5e497",
   "metadata": {},
   "outputs": [],
   "source": [
    "df_customer = df.dropna(subset=['CustomerID']).copy()\n",
    "df_customer['CustomerID'] = df_customer['CustomerID'].astype('str').str.replace('.0', '', regex=False)"
   ]
  },
  {
   "cell_type": "code",
   "execution_count": 28,
   "id": "27ae9652",
   "metadata": {},
   "outputs": [
    {
     "name": "stdout",
     "output_type": "stream",
     "text": [
      "df_full rows: 534129\n",
      "df_customer rows: 534129\n",
      "Null CustomerID in df_customer: 0\n",
      "Sample CustomerID: ['17850', '17850', '17850']\n"
     ]
    }
   ],
   "source": [
    "print(\"df_full rows:\", len(df_full))\n",
    "print(\"df_customer rows:\", len(df_customer))\n",
    "print(\"Null CustomerID in df_customer:\", df_customer['CustomerID'].isna().sum())\n",
    "assert df_customer['CustomerID'].notna().all(), \"Null CustomerID remains!\"\n",
    "\n",
    "print(\"Sample CustomerID:\", df_customer['CustomerID'].head(3).tolist())"
   ]
  },
  {
   "cell_type": "markdown",
   "id": "337ed82c",
   "metadata": {},
   "source": [
    "## Transformation 5: Remove Outliers\n",
    "- **Issue:** Extreme values distort revenue (e.g., Quantity > 10,000 or UnitPrice > £5,000)  \n",
    "- **Fix:** Cap at 99th percentile (conservative) OR remove > 99.5th  \n",
    "- **Chosen:** Remove rows where `Quantity > 99.5th` OR `UnitPrice > 99.5th`  \n",
    "- **Validation:** Confirm no values above threshold"
   ]
  },
  {
   "cell_type": "code",
   "execution_count": 29,
   "id": "f84402b6",
   "metadata": {},
   "outputs": [
    {
     "name": "stdout",
     "output_type": "stream",
     "text": [
      "99.5th percentile → Quantity: 160, UnitPrice: £24.96\n"
     ]
    }
   ],
   "source": [
    "qty_995 = df_full['Quantity'].quantile(0.995)\n",
    "price_995 = df_full['UnitPrice'].quantile(0.995)\n",
    "print(f\"99.5th percentile → Quantity: {qty_995:.0f}, UnitPrice: £{price_995:.2f}\")"
   ]
  },
  {
   "cell_type": "code",
   "execution_count": 30,
   "id": "6ce77d33",
   "metadata": {},
   "outputs": [
    {
     "name": "stdout",
     "output_type": "stream",
     "text": [
      "Rows before outlier removal: 534129\n"
     ]
    }
   ],
   "source": [
    "print(\"Rows before outlier removal:\", len(df_full))"
   ]
  },
  {
   "cell_type": "code",
   "execution_count": 31,
   "id": "0fa44248",
   "metadata": {},
   "outputs": [],
   "source": [
    "df_full = df_full[\n",
    "    (df_full['Quantity'] <= qty_995) &\n",
    "    (df_full['UnitPrice'] <= price_995)\n",
    "].copy()"
   ]
  },
  {
   "cell_type": "code",
   "execution_count": 32,
   "id": "e8e08b6d",
   "metadata": {},
   "outputs": [
    {
     "name": "stdout",
     "output_type": "stream",
     "text": [
      "Rows after (df_full): 528887\n"
     ]
    }
   ],
   "source": [
    "print(\"Rows after (df_full):\", len(df_full))\n",
    "assert (df_full['Quantity'] <= qty_995).all(), \"Quantity outliers remain!\"\n",
    "assert (df_full['UnitPrice'] <= price_995).all(), \"Price outliers remain!\""
   ]
  },
  {
   "cell_type": "markdown",
   "id": "34adedab",
   "metadata": {},
   "source": [
    "## Transformation 6: Final Validation & Export\n",
    "- **Summary of cleaning steps applied**  \n",
    "- **Final checks:** No nulls in key fields, positive revenue in non-cancellations, date range  \n",
    "- **Export:**  \n",
    "  - `df_full` → `../cleaned_data/retail_clean_full.csv`  \n",
    "  - `df_customer` → `../cleaned_data/retail_clean_customer.csv`  \n",
    "- **Validation:** File exists + row count matches"
   ]
  },
  {
   "cell_type": "code",
   "execution_count": 33,
   "id": "085870c4",
   "metadata": {},
   "outputs": [
    {
     "name": "stdout",
     "output_type": "stream",
     "text": [
      "=== FINAL DATA SUMMARY ===\n",
      "df_full: 528,887 rows\n",
      "df_customer: 534,129 rows\n",
      "Date range: 2010-12-01 08:26:00 to 2011-12-09 12:50:00\n",
      "Total Revenue (incl. cancellations): £8,185,493.07\n"
     ]
    }
   ],
   "source": [
    "print(\"=== FINAL DATA SUMMARY ===\")\n",
    "print(f\"df_full: {len(df_full):,} rows\")\n",
    "print(f\"df_customer: {len(df_customer):,} rows\")\n",
    "print(f\"Date range: {df_full['InvoiceDate'].min()} to {df_full['InvoiceDate'].max()}\")\n",
    "print(f\"Total Revenue (incl. cancellations): £{df_full['Revenue'].sum():,.2f}\")"
   ]
  },
  {
   "cell_type": "code",
   "execution_count": 34,
   "id": "f902e88c",
   "metadata": {},
   "outputs": [],
   "source": [
    "assert (df_full.loc[~df_full['IsCancellation'], 'Quantity'] > 0).all(), \"Non-cancellation has <=0 qty!\"\n",
    "assert (df_full.loc[~df_full['IsCancellation'], 'UnitPrice'] > 0).all(), \"Non-cancellation has <=0 price!\"\n",
    "assert df_full['InvoiceDate'].notna().all(), \"Missing dates!\""
   ]
  },
  {
   "cell_type": "code",
   "execution_count": 35,
   "id": "5e568c17",
   "metadata": {},
   "outputs": [],
   "source": [
    "full_path = 'E:/FARIS WORK/data-analyst-intern-assignment/Cleaned_data/retail_clean_full.csv'\n",
    "customer_path = 'E:/FARIS WORK/data-analyst-intern-assignment/Cleaned_data/retail_clean_customer.csv'"
   ]
  },
  {
   "cell_type": "code",
   "execution_count": 36,
   "id": "61bf763a",
   "metadata": {},
   "outputs": [],
   "source": [
    "df_full.to_csv(full_path, index=False)\n",
    "df_customer.to_csv(customer_path, index=False)"
   ]
  },
  {
   "cell_type": "code",
   "execution_count": 37,
   "id": "c9a79f88",
   "metadata": {},
   "outputs": [
    {
     "name": "stdout",
     "output_type": "stream",
     "text": [
      "\n",
      "Exported: E:/FARIS WORK/data-analyst-intern-assignment/Cleaned_data/retail_clean_full.csv\n",
      "Exported: E:/FARIS WORK/data-analyst-intern-assignment/Cleaned_data/retail_clean_customer.csv\n"
     ]
    }
   ],
   "source": [
    "print(f\"\\nExported: {full_path}\")\n",
    "print(f\"Exported: {customer_path}\")"
   ]
  },
  {
   "cell_type": "code",
   "execution_count": 38,
   "id": "e6d61139",
   "metadata": {},
   "outputs": [
    {
     "name": "stdout",
     "output_type": "stream",
     "text": [
      "All validation passed. Cleaning COMPLETE.\n"
     ]
    }
   ],
   "source": [
    "import os\n",
    "assert os.path.exists(full_path), \"Full CSV not saved!\"\n",
    "assert os.path.exists(customer_path), \"Customer CSV not saved!\"\n",
    "print(\"All validation passed. Cleaning COMPLETE.\")"
   ]
  }
 ],
 "metadata": {
  "kernelspec": {
   "display_name": "Python 3",
   "language": "python",
   "name": "python3"
  },
  "language_info": {
   "codemirror_mode": {
    "name": "ipython",
    "version": 3
   },
   "file_extension": ".py",
   "mimetype": "text/x-python",
   "name": "python",
   "nbconvert_exporter": "python",
   "pygments_lexer": "ipython3",
   "version": "3.13.7"
  }
 },
 "nbformat": 4,
 "nbformat_minor": 5
}
